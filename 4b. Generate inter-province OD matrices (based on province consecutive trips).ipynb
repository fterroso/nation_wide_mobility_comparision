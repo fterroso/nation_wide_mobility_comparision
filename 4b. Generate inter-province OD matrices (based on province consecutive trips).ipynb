{
 "cells": [
  {
   "cell_type": "code",
   "execution_count": 20,
   "metadata": {},
   "outputs": [],
   "source": [
    "import pandas as pd\n",
    "\n",
    "pd.set_option('display.max_rows', 500)\n",
    "pd.set_option('display.max_columns', 500)\n",
    "pd.set_option('display.width', 1000)\n",
    "\n",
    "import geopandas as gpd\n",
    "import numpy as np\n",
    "from tqdm import tqdm_notebook\n",
    "from shapely.geometry import Point, LineString\n",
    "import os\n",
    "\n",
    "from datetime import datetime, timedelta\n",
    "\n",
    "import matplotlib.pyplot as plt\n",
    "%matplotlib inline\n",
    "\n",
    "import folium\n",
    "import geoplot\n",
    "\n",
    "\n",
    "data_path = '/home/fterroso/data/'\n",
    "tweets_path = '/home/fterroso/projects/twitter-crawler/streaming_tweets/'"
   ]
  },
  {
   "cell_type": "markdown",
   "metadata": {},
   "source": [
    "Read geodataframe generated in 3d"
   ]
  },
  {
   "cell_type": "code",
   "execution_count": 21,
   "metadata": {},
   "outputs": [],
   "source": [
    "prov_trips_gdf = gpd.read_file(os.path.join('data', 'province_consecutive_enriched.geojson'), \n",
    "                          driver='GeoJSON', \n",
    "                          encoding='utf-8').to_crs({'init': 'epsg:25830'})"
   ]
  },
  {
   "cell_type": "code",
   "execution_count": 22,
   "metadata": {},
   "outputs": [
    {
     "data": {
      "text/html": [
       "<div>\n",
       "<style scoped>\n",
       "    .dataframe tbody tr th:only-of-type {\n",
       "        vertical-align: middle;\n",
       "    }\n",
       "\n",
       "    .dataframe tbody tr th {\n",
       "        vertical-align: top;\n",
       "    }\n",
       "\n",
       "    .dataframe thead th {\n",
       "        text-align: right;\n",
       "    }\n",
       "</style>\n",
       "<table border=\"1\" class=\"dataframe\">\n",
       "  <thead>\n",
       "    <tr style=\"text-align: right;\">\n",
       "      <th></th>\n",
       "      <th>user_id</th>\n",
       "      <th>tw_id_o</th>\n",
       "      <th>timestamp_o</th>\n",
       "      <th>PROV_o</th>\n",
       "      <th>tw_id_d</th>\n",
       "      <th>timestamp_d</th>\n",
       "      <th>PROV_d</th>\n",
       "      <th>dist_km</th>\n",
       "      <th>time_length</th>\n",
       "      <th>speed_km_h</th>\n",
       "      <th>geometry</th>\n",
       "    </tr>\n",
       "  </thead>\n",
       "  <tbody>\n",
       "    <tr>\n",
       "      <th>0</th>\n",
       "      <td>550261599</td>\n",
       "      <td>1271251707662487553</td>\n",
       "      <td>2020-06-12T01:23:20</td>\n",
       "      <td>Lleida</td>\n",
       "      <td>1271300070848073728</td>\n",
       "      <td>2020-06-12T04:35:31</td>\n",
       "      <td>Madrid</td>\n",
       "      <td>385.841286</td>\n",
       "      <td>11531</td>\n",
       "      <td>120.460379</td>\n",
       "      <td>LINESTRING (801799.4858383657 4613560.58154440...</td>\n",
       "    </tr>\n",
       "    <tr>\n",
       "      <th>1</th>\n",
       "      <td>550261599</td>\n",
       "      <td>1235822698179080192</td>\n",
       "      <td>2020-03-06T07:01:06</td>\n",
       "      <td>Barcelona</td>\n",
       "      <td>1235848984700149760</td>\n",
       "      <td>2020-03-06T08:45:33</td>\n",
       "      <td>Madrid</td>\n",
       "      <td>509.802161</td>\n",
       "      <td>6267</td>\n",
       "      <td>292.849494</td>\n",
       "      <td>LINESTRING (936098.348589811 4599731.93930922,...</td>\n",
       "    </tr>\n",
       "    <tr>\n",
       "      <th>2</th>\n",
       "      <td>550261599</td>\n",
       "      <td>1263866722945134598</td>\n",
       "      <td>2020-05-22T16:18:02</td>\n",
       "      <td>Madrid</td>\n",
       "      <td>1263890111114051585</td>\n",
       "      <td>2020-05-22T17:50:59</td>\n",
       "      <td>Girona</td>\n",
       "      <td>594.252450</td>\n",
       "      <td>5577</td>\n",
       "      <td>383.594911</td>\n",
       "      <td>LINESTRING (441970.6228863231 4474288.59112672...</td>\n",
       "    </tr>\n",
       "    <tr>\n",
       "      <th>3</th>\n",
       "      <td>550261599</td>\n",
       "      <td>1249736667495370753</td>\n",
       "      <td>2020-04-13T16:30:15</td>\n",
       "      <td>Madrid</td>\n",
       "      <td>1249757472350285825</td>\n",
       "      <td>2020-04-13T17:52:55</td>\n",
       "      <td>Murcia</td>\n",
       "      <td>373.985274</td>\n",
       "      <td>4960</td>\n",
       "      <td>271.440924</td>\n",
       "      <td>LINESTRING (441970.6228863231 4474288.59112672...</td>\n",
       "    </tr>\n",
       "    <tr>\n",
       "      <th>4</th>\n",
       "      <td>550261599</td>\n",
       "      <td>1254589140030550017</td>\n",
       "      <td>2020-04-27T01:52:14</td>\n",
       "      <td>Madrid</td>\n",
       "      <td>1254636101488107521</td>\n",
       "      <td>2020-04-27T04:58:51</td>\n",
       "      <td>Barcelona</td>\n",
       "      <td>505.474929</td>\n",
       "      <td>11197</td>\n",
       "      <td>162.517616</td>\n",
       "      <td>LINESTRING (441970.6228863231 4474288.59112672...</td>\n",
       "    </tr>\n",
       "  </tbody>\n",
       "</table>\n",
       "</div>"
      ],
      "text/plain": [
       "     user_id              tw_id_o          timestamp_o     PROV_o              tw_id_d          timestamp_d     PROV_d     dist_km  time_length  speed_km_h                                           geometry\n",
       "0  550261599  1271251707662487553  2020-06-12T01:23:20     Lleida  1271300070848073728  2020-06-12T04:35:31     Madrid  385.841286        11531  120.460379  LINESTRING (801799.4858383657 4613560.58154440...\n",
       "1  550261599  1235822698179080192  2020-03-06T07:01:06  Barcelona  1235848984700149760  2020-03-06T08:45:33     Madrid  509.802161         6267  292.849494  LINESTRING (936098.348589811 4599731.93930922,...\n",
       "2  550261599  1263866722945134598  2020-05-22T16:18:02     Madrid  1263890111114051585  2020-05-22T17:50:59     Girona  594.252450         5577  383.594911  LINESTRING (441970.6228863231 4474288.59112672...\n",
       "3  550261599  1249736667495370753  2020-04-13T16:30:15     Madrid  1249757472350285825  2020-04-13T17:52:55     Murcia  373.985274         4960  271.440924  LINESTRING (441970.6228863231 4474288.59112672...\n",
       "4  550261599  1254589140030550017  2020-04-27T01:52:14     Madrid  1254636101488107521  2020-04-27T04:58:51  Barcelona  505.474929        11197  162.517616  LINESTRING (441970.6228863231 4474288.59112672..."
      ]
     },
     "execution_count": 22,
     "metadata": {},
     "output_type": "execute_result"
    }
   ],
   "source": [
    "prov_trips_gdf.head()"
   ]
  },
  {
   "cell_type": "code",
   "execution_count": 23,
   "metadata": {},
   "outputs": [],
   "source": [
    "prov_trips_gdf['timestamp_o']= pd.to_datetime(prov_trips_gdf['timestamp_o'])\n",
    "prov_trips_gdf['timestamp_d']= pd.to_datetime(prov_trips_gdf['timestamp_d'])\n",
    "prov_trips_gdf['time_length']= prov_trips_gdf['time_length'].apply(lambda x: timedelta(seconds=x))"
   ]
  },
  {
   "cell_type": "code",
   "execution_count": 24,
   "metadata": {
    "scrolled": true
   },
   "outputs": [
    {
     "data": {
      "text/html": [
       "<div>\n",
       "<style scoped>\n",
       "    .dataframe tbody tr th:only-of-type {\n",
       "        vertical-align: middle;\n",
       "    }\n",
       "\n",
       "    .dataframe tbody tr th {\n",
       "        vertical-align: top;\n",
       "    }\n",
       "\n",
       "    .dataframe thead th {\n",
       "        text-align: right;\n",
       "    }\n",
       "</style>\n",
       "<table border=\"1\" class=\"dataframe\">\n",
       "  <thead>\n",
       "    <tr style=\"text-align: right;\">\n",
       "      <th></th>\n",
       "      <th>user_id</th>\n",
       "      <th>tw_id_o</th>\n",
       "      <th>timestamp_o</th>\n",
       "      <th>PROV_o</th>\n",
       "      <th>tw_id_d</th>\n",
       "      <th>timestamp_d</th>\n",
       "      <th>PROV_d</th>\n",
       "      <th>dist_km</th>\n",
       "      <th>time_length</th>\n",
       "      <th>speed_km_h</th>\n",
       "      <th>geometry</th>\n",
       "    </tr>\n",
       "  </thead>\n",
       "  <tbody>\n",
       "    <tr>\n",
       "      <th>0</th>\n",
       "      <td>550261599</td>\n",
       "      <td>1271251707662487553</td>\n",
       "      <td>2020-06-12 01:23:20</td>\n",
       "      <td>Lleida</td>\n",
       "      <td>1271300070848073728</td>\n",
       "      <td>2020-06-12 04:35:31</td>\n",
       "      <td>Madrid</td>\n",
       "      <td>385.841286</td>\n",
       "      <td>03:12:11</td>\n",
       "      <td>120.460379</td>\n",
       "      <td>LINESTRING (801799.4858383657 4613560.58154440...</td>\n",
       "    </tr>\n",
       "    <tr>\n",
       "      <th>1</th>\n",
       "      <td>550261599</td>\n",
       "      <td>1235822698179080192</td>\n",
       "      <td>2020-03-06 07:01:06</td>\n",
       "      <td>Barcelona</td>\n",
       "      <td>1235848984700149760</td>\n",
       "      <td>2020-03-06 08:45:33</td>\n",
       "      <td>Madrid</td>\n",
       "      <td>509.802161</td>\n",
       "      <td>01:44:27</td>\n",
       "      <td>292.849494</td>\n",
       "      <td>LINESTRING (936098.348589811 4599731.93930922,...</td>\n",
       "    </tr>\n",
       "    <tr>\n",
       "      <th>2</th>\n",
       "      <td>550261599</td>\n",
       "      <td>1263866722945134598</td>\n",
       "      <td>2020-05-22 16:18:02</td>\n",
       "      <td>Madrid</td>\n",
       "      <td>1263890111114051585</td>\n",
       "      <td>2020-05-22 17:50:59</td>\n",
       "      <td>Girona</td>\n",
       "      <td>594.252450</td>\n",
       "      <td>01:32:57</td>\n",
       "      <td>383.594911</td>\n",
       "      <td>LINESTRING (441970.6228863231 4474288.59112672...</td>\n",
       "    </tr>\n",
       "    <tr>\n",
       "      <th>3</th>\n",
       "      <td>550261599</td>\n",
       "      <td>1249736667495370753</td>\n",
       "      <td>2020-04-13 16:30:15</td>\n",
       "      <td>Madrid</td>\n",
       "      <td>1249757472350285825</td>\n",
       "      <td>2020-04-13 17:52:55</td>\n",
       "      <td>Murcia</td>\n",
       "      <td>373.985274</td>\n",
       "      <td>01:22:40</td>\n",
       "      <td>271.440924</td>\n",
       "      <td>LINESTRING (441970.6228863231 4474288.59112672...</td>\n",
       "    </tr>\n",
       "    <tr>\n",
       "      <th>4</th>\n",
       "      <td>550261599</td>\n",
       "      <td>1254589140030550017</td>\n",
       "      <td>2020-04-27 01:52:14</td>\n",
       "      <td>Madrid</td>\n",
       "      <td>1254636101488107521</td>\n",
       "      <td>2020-04-27 04:58:51</td>\n",
       "      <td>Barcelona</td>\n",
       "      <td>505.474929</td>\n",
       "      <td>03:06:37</td>\n",
       "      <td>162.517616</td>\n",
       "      <td>LINESTRING (441970.6228863231 4474288.59112672...</td>\n",
       "    </tr>\n",
       "  </tbody>\n",
       "</table>\n",
       "</div>"
      ],
      "text/plain": [
       "     user_id              tw_id_o         timestamp_o     PROV_o              tw_id_d         timestamp_d     PROV_d     dist_km time_length  speed_km_h                                           geometry\n",
       "0  550261599  1271251707662487553 2020-06-12 01:23:20     Lleida  1271300070848073728 2020-06-12 04:35:31     Madrid  385.841286    03:12:11  120.460379  LINESTRING (801799.4858383657 4613560.58154440...\n",
       "1  550261599  1235822698179080192 2020-03-06 07:01:06  Barcelona  1235848984700149760 2020-03-06 08:45:33     Madrid  509.802161    01:44:27  292.849494  LINESTRING (936098.348589811 4599731.93930922,...\n",
       "2  550261599  1263866722945134598 2020-05-22 16:18:02     Madrid  1263890111114051585 2020-05-22 17:50:59     Girona  594.252450    01:32:57  383.594911  LINESTRING (441970.6228863231 4474288.59112672...\n",
       "3  550261599  1249736667495370753 2020-04-13 16:30:15     Madrid  1249757472350285825 2020-04-13 17:52:55     Murcia  373.985274    01:22:40  271.440924  LINESTRING (441970.6228863231 4474288.59112672...\n",
       "4  550261599  1254589140030550017 2020-04-27 01:52:14     Madrid  1254636101488107521 2020-04-27 04:58:51  Barcelona  505.474929    03:06:37  162.517616  LINESTRING (441970.6228863231 4474288.59112672..."
      ]
     },
     "execution_count": 24,
     "metadata": {},
     "output_type": "execute_result"
    }
   ],
   "source": [
    "prov_trips_gdf.head()"
   ]
  },
  {
   "cell_type": "markdown",
   "metadata": {},
   "source": [
    "Read province file generated in notebook 2a"
   ]
  },
  {
   "cell_type": "code",
   "execution_count": 25,
   "metadata": {},
   "outputs": [
    {
     "data": {
      "text/html": [
       "<div>\n",
       "<style scoped>\n",
       "    .dataframe tbody tr th:only-of-type {\n",
       "        vertical-align: middle;\n",
       "    }\n",
       "\n",
       "    .dataframe tbody tr th {\n",
       "        vertical-align: top;\n",
       "    }\n",
       "\n",
       "    .dataframe thead th {\n",
       "        text-align: right;\n",
       "    }\n",
       "</style>\n",
       "<table border=\"1\" class=\"dataframe\">\n",
       "  <thead>\n",
       "    <tr style=\"text-align: right;\">\n",
       "      <th></th>\n",
       "      <th>NATCODE</th>\n",
       "      <th>NAMEUNIT</th>\n",
       "      <th>CODEUNIT</th>\n",
       "      <th>geometry</th>\n",
       "    </tr>\n",
       "  </thead>\n",
       "  <tbody>\n",
       "    <tr>\n",
       "      <th>0</th>\n",
       "      <td>34104600000</td>\n",
       "      <td>València/Valencia</td>\n",
       "      <td>46</td>\n",
       "      <td>(POLYGON ((653037.6610938488 4429500.236400451...</td>\n",
       "    </tr>\n",
       "    <tr>\n",
       "      <th>1</th>\n",
       "      <td>34084500000</td>\n",
       "      <td>Toledo</td>\n",
       "      <td>45</td>\n",
       "      <td>POLYGON ((294238.4652867644 4416957.42816667, ...</td>\n",
       "    </tr>\n",
       "    <tr>\n",
       "      <th>2</th>\n",
       "      <td>34024400000</td>\n",
       "      <td>Teruel</td>\n",
       "      <td>44</td>\n",
       "      <td>POLYGON ((765333.0112961649 4512252.350615062,...</td>\n",
       "    </tr>\n",
       "    <tr>\n",
       "      <th>3</th>\n",
       "      <td>34094300000</td>\n",
       "      <td>Tarragona</td>\n",
       "      <td>43</td>\n",
       "      <td>(POLYGON ((813560.4348489635 4504876.753000001...</td>\n",
       "    </tr>\n",
       "    <tr>\n",
       "      <th>4</th>\n",
       "      <td>34074200000</td>\n",
       "      <td>Soria</td>\n",
       "      <td>42</td>\n",
       "      <td>POLYGON ((583890.5889343297 4603311.305096235,...</td>\n",
       "    </tr>\n",
       "  </tbody>\n",
       "</table>\n",
       "</div>"
      ],
      "text/plain": [
       "       NATCODE           NAMEUNIT CODEUNIT                                           geometry\n",
       "0  34104600000  València/Valencia       46  (POLYGON ((653037.6610938488 4429500.236400451...\n",
       "1  34084500000             Toledo       45  POLYGON ((294238.4652867644 4416957.42816667, ...\n",
       "2  34024400000             Teruel       44  POLYGON ((765333.0112961649 4512252.350615062,...\n",
       "3  34094300000          Tarragona       43  (POLYGON ((813560.4348489635 4504876.753000001...\n",
       "4  34074200000              Soria       42  POLYGON ((583890.5889343297 4603311.305096235,..."
      ]
     },
     "execution_count": 25,
     "metadata": {},
     "output_type": "execute_result"
    }
   ],
   "source": [
    "province_gdf = gpd.read_file(os.path.join('data', 'provinces_with_code.geojson'), encoding='utf-8').to_crs({'init': 'epsg:25830'})\n",
    "province_gdf.head()"
   ]
  },
  {
   "cell_type": "markdown",
   "metadata": {},
   "source": [
    "---------------------------"
   ]
  },
  {
   "cell_type": "code",
   "execution_count": 26,
   "metadata": {},
   "outputs": [],
   "source": [
    "time_periods = {'P1':(0,5),\n",
    "               'P2':(6,9),\n",
    "               'P3':(10,16),\n",
    "               'P4':(17,23),}"
   ]
  },
  {
   "cell_type": "code",
   "execution_count": 27,
   "metadata": {},
   "outputs": [
    {
     "data": {
      "text/html": [
       "<div>\n",
       "<style scoped>\n",
       "    .dataframe tbody tr th:only-of-type {\n",
       "        vertical-align: middle;\n",
       "    }\n",
       "\n",
       "    .dataframe tbody tr th {\n",
       "        vertical-align: top;\n",
       "    }\n",
       "\n",
       "    .dataframe thead th {\n",
       "        text-align: right;\n",
       "    }\n",
       "</style>\n",
       "<table border=\"1\" class=\"dataframe\">\n",
       "  <thead>\n",
       "    <tr style=\"text-align: right;\">\n",
       "      <th></th>\n",
       "      <th>user_id</th>\n",
       "      <th>tw_id_o</th>\n",
       "      <th>timestamp_o</th>\n",
       "      <th>PROV_o</th>\n",
       "      <th>tw_id_d</th>\n",
       "      <th>timestamp_d</th>\n",
       "      <th>PROV_d</th>\n",
       "      <th>dist_km</th>\n",
       "      <th>time_length</th>\n",
       "      <th>speed_km_h</th>\n",
       "      <th>geometry</th>\n",
       "    </tr>\n",
       "  </thead>\n",
       "  <tbody>\n",
       "    <tr>\n",
       "      <th>0</th>\n",
       "      <td>550261599</td>\n",
       "      <td>1271251707662487553</td>\n",
       "      <td>2020-06-12 01:23:20</td>\n",
       "      <td>Lleida</td>\n",
       "      <td>1271300070848073728</td>\n",
       "      <td>2020-06-12 04:35:31</td>\n",
       "      <td>Madrid</td>\n",
       "      <td>385.841286</td>\n",
       "      <td>03:12:11</td>\n",
       "      <td>120.460379</td>\n",
       "      <td>LINESTRING (801799.4858383657 4613560.58154440...</td>\n",
       "    </tr>\n",
       "    <tr>\n",
       "      <th>1</th>\n",
       "      <td>550261599</td>\n",
       "      <td>1235822698179080192</td>\n",
       "      <td>2020-03-06 07:01:06</td>\n",
       "      <td>Barcelona</td>\n",
       "      <td>1235848984700149760</td>\n",
       "      <td>2020-03-06 08:45:33</td>\n",
       "      <td>Madrid</td>\n",
       "      <td>509.802161</td>\n",
       "      <td>01:44:27</td>\n",
       "      <td>292.849494</td>\n",
       "      <td>LINESTRING (936098.348589811 4599731.93930922,...</td>\n",
       "    </tr>\n",
       "    <tr>\n",
       "      <th>2</th>\n",
       "      <td>550261599</td>\n",
       "      <td>1263866722945134598</td>\n",
       "      <td>2020-05-22 16:18:02</td>\n",
       "      <td>Madrid</td>\n",
       "      <td>1263890111114051585</td>\n",
       "      <td>2020-05-22 17:50:59</td>\n",
       "      <td>Girona</td>\n",
       "      <td>594.252450</td>\n",
       "      <td>01:32:57</td>\n",
       "      <td>383.594911</td>\n",
       "      <td>LINESTRING (441970.6228863231 4474288.59112672...</td>\n",
       "    </tr>\n",
       "  </tbody>\n",
       "</table>\n",
       "</div>"
      ],
      "text/plain": [
       "     user_id              tw_id_o         timestamp_o     PROV_o              tw_id_d         timestamp_d  PROV_d     dist_km time_length  speed_km_h                                           geometry\n",
       "0  550261599  1271251707662487553 2020-06-12 01:23:20     Lleida  1271300070848073728 2020-06-12 04:35:31  Madrid  385.841286    03:12:11  120.460379  LINESTRING (801799.4858383657 4613560.58154440...\n",
       "1  550261599  1235822698179080192 2020-03-06 07:01:06  Barcelona  1235848984700149760 2020-03-06 08:45:33  Madrid  509.802161    01:44:27  292.849494  LINESTRING (936098.348589811 4599731.93930922,...\n",
       "2  550261599  1263866722945134598 2020-05-22 16:18:02     Madrid  1263890111114051585 2020-05-22 17:50:59  Girona  594.252450    01:32:57  383.594911  LINESTRING (441970.6228863231 4474288.59112672..."
      ]
     },
     "execution_count": 27,
     "metadata": {},
     "output_type": "execute_result"
    }
   ],
   "source": [
    "prov_trips_gdf.head(3)"
   ]
  },
  {
   "cell_type": "code",
   "execution_count": 28,
   "metadata": {},
   "outputs": [],
   "source": [
    "prov_trips_gdf['hour'] = prov_trips_gdf['timestamp_o'].apply(lambda x: x.hour)"
   ]
  },
  {
   "cell_type": "code",
   "execution_count": 29,
   "metadata": {},
   "outputs": [],
   "source": [
    "import datetime\n",
    "\n",
    "def generate_OD_matrix_fn(trips_df, \n",
    "                          time_period=None,\n",
    "                          i_date=datetime.datetime.strptime('2020-02-27', '%Y-%m-%d'), \n",
    "                          e_date = datetime.datetime.now()):\n",
    "    \n",
    "    t_trips = trips_df[(trips_df['timestamp_o']>= i_date)& (trips_df['timestamp_o']<= e_date)]    \n",
    "    \n",
    "    \n",
    "    if time_period:\n",
    "        t_trips['hour'] = t_trips['timestamp_o'].apply(lambda x: x.hour)\n",
    "        h_range = time_periods[time_period]\n",
    "        t_trips = t_trips[(t_trips['hour']>= h_range[0])& (t_trips['hour']<= h_range[1])]    \n",
    "\n",
    "    print(\"Number of evaluated trips: {}\".format(t_trips.shape[0]))\n",
    "    \n",
    "    trips_od_df = t_trips.groupby('PROV_o PROV_d'.split()).agg(['count'])\n",
    "    sum_ = trips_od_df.sum(level=0, axis=0)\n",
    "    norm_trips_od_df= trips_od_df.div(sum_, axis=1, level=0)\n",
    "    \n",
    "    trips_od_df = trips_od_df[trips_od_df.columns[0][0]]\n",
    "    norm_trips_od_df= norm_trips_od_df[norm_trips_od_df.columns[0][0]]\n",
    "    \n",
    "    trips_od_df['n_trips_norm'] = norm_trips_od_df['count']\n",
    "    trips_od_df.rename(columns={'count':'n_trips'},inplace=True)\n",
    "        \n",
    "    \n",
    "    return trips_od_df\n",
    "    \"\"\"\n",
    "    norm_trips_od_df= trips_od_df.div(sum_, axis=1, level=0)\n",
    "    return {'od_matrix': trips_od_df[trips_od_df.columns[0][0]], 'norm_od_matrix': norm_trips_od_df[norm_trips_od_df.columns[0][0]]}\n",
    "    \"\"\""
   ]
  },
  {
   "cell_type": "markdown",
   "metadata": {},
   "source": [
    "## Intra and inter-province trips"
   ]
  },
  {
   "cell_type": "code",
   "execution_count": 30,
   "metadata": {},
   "outputs": [
    {
     "name": "stdout",
     "output_type": "stream",
     "text": [
      "Number of evaluated trips: 18034\n"
     ]
    },
    {
     "data": {
      "text/html": [
       "<div>\n",
       "<style scoped>\n",
       "    .dataframe tbody tr th:only-of-type {\n",
       "        vertical-align: middle;\n",
       "    }\n",
       "\n",
       "    .dataframe tbody tr th {\n",
       "        vertical-align: top;\n",
       "    }\n",
       "\n",
       "    .dataframe thead th {\n",
       "        text-align: right;\n",
       "    }\n",
       "</style>\n",
       "<table border=\"1\" class=\"dataframe\">\n",
       "  <thead>\n",
       "    <tr style=\"text-align: right;\">\n",
       "      <th></th>\n",
       "      <th></th>\n",
       "      <th>n_trips</th>\n",
       "      <th>n_trips_norm</th>\n",
       "    </tr>\n",
       "    <tr>\n",
       "      <th>PROV_o</th>\n",
       "      <th>PROV_d</th>\n",
       "      <th></th>\n",
       "      <th></th>\n",
       "    </tr>\n",
       "  </thead>\n",
       "  <tbody>\n",
       "    <tr>\n",
       "      <th rowspan=\"5\" valign=\"top\">A Coruña</th>\n",
       "      <th>Alacant/Alicante</th>\n",
       "      <td>1</td>\n",
       "      <td>0.005618</td>\n",
       "    </tr>\n",
       "    <tr>\n",
       "      <th>Almería</th>\n",
       "      <td>1</td>\n",
       "      <td>0.005618</td>\n",
       "    </tr>\n",
       "    <tr>\n",
       "      <th>Araba/Álava</th>\n",
       "      <td>1</td>\n",
       "      <td>0.005618</td>\n",
       "    </tr>\n",
       "    <tr>\n",
       "      <th>Asturias</th>\n",
       "      <td>2</td>\n",
       "      <td>0.011236</td>\n",
       "    </tr>\n",
       "    <tr>\n",
       "      <th>Barcelona</th>\n",
       "      <td>8</td>\n",
       "      <td>0.044944</td>\n",
       "    </tr>\n",
       "  </tbody>\n",
       "</table>\n",
       "</div>"
      ],
      "text/plain": [
       "                           n_trips  n_trips_norm\n",
       "PROV_o   PROV_d                                 \n",
       "A Coruña Alacant/Alicante        1      0.005618\n",
       "         Almería                 1      0.005618\n",
       "         Araba/Álava             1      0.005618\n",
       "         Asturias                2      0.011236\n",
       "         Barcelona               8      0.044944"
      ]
     },
     "execution_count": 30,
     "metadata": {},
     "output_type": "execute_result"
    }
   ],
   "source": [
    "intra_inter_prov_OD = generate_OD_matrix_fn(prov_trips_gdf)\n",
    "intra_inter_prov_OD.head()"
   ]
  },
  {
   "cell_type": "markdown",
   "metadata": {},
   "source": [
    "## Only inter-province trips"
   ]
  },
  {
   "cell_type": "markdown",
   "metadata": {},
   "source": [
    "Global"
   ]
  },
  {
   "cell_type": "code",
   "execution_count": 31,
   "metadata": {
    "scrolled": true
   },
   "outputs": [
    {
     "name": "stdout",
     "output_type": "stream",
     "text": [
      "Number of evaluated trips: 18034\n"
     ]
    }
   ],
   "source": [
    "inter_prov_trips_df = prov_trips_gdf[prov_trips_gdf['PROV_o']!=prov_trips_gdf['PROV_d']]\n",
    "inter_prov_OD = generate_OD_matrix_fn(inter_prov_trips_df)"
   ]
  },
  {
   "cell_type": "code",
   "execution_count": 32,
   "metadata": {},
   "outputs": [],
   "source": [
    "inter_prov_OD.to_csv(os.path.join('data','global_tw_od.csv'))"
   ]
  },
  {
   "cell_type": "markdown",
   "metadata": {},
   "source": [
    "Global - hour periods"
   ]
  },
  {
   "cell_type": "code",
   "execution_count": 33,
   "metadata": {},
   "outputs": [
    {
     "name": "stdout",
     "output_type": "stream",
     "text": [
      "Number of evaluated trips: 2162\n",
      "Number of evaluated trips: 4546\n",
      "Number of evaluated trips: 8173\n",
      "Number of evaluated trips: 3153\n"
     ]
    }
   ],
   "source": [
    "for p in time_periods.keys():\n",
    "    inter_prov_OD = generate_OD_matrix_fn(inter_prov_trips_df, time_period=p)\n",
    "    inter_prov_OD.to_csv(os.path.join('data','global_tw_od_{}.csv'.format(p)))"
   ]
  },
  {
   "cell_type": "markdown",
   "metadata": {},
   "source": [
    "Only July"
   ]
  },
  {
   "cell_type": "code",
   "execution_count": 34,
   "metadata": {},
   "outputs": [
    {
     "name": "stdout",
     "output_type": "stream",
     "text": [
      "Number of evaluated trips: 3758\n"
     ]
    }
   ],
   "source": [
    "july_inter_prov_OD = generate_OD_matrix_fn(\n",
    "    inter_prov_trips_df,\n",
    "    i_date=datetime.datetime.strptime('2020-07-01', '%Y-%m-%d'))"
   ]
  },
  {
   "cell_type": "code",
   "execution_count": 35,
   "metadata": {},
   "outputs": [],
   "source": [
    "july_inter_prov_OD.to_csv(os.path.join('data','july_tw_od_normalized.csv'))"
   ]
  },
  {
   "cell_type": "markdown",
   "metadata": {},
   "source": [
    "Only July- hour periods"
   ]
  },
  {
   "cell_type": "code",
   "execution_count": 36,
   "metadata": {},
   "outputs": [
    {
     "name": "stderr",
     "output_type": "stream",
     "text": [
      "/home/fterroso/python/lib/python3.6/site-packages/ipykernel_launcher.py:12: SettingWithCopyWarning: \n",
      "A value is trying to be set on a copy of a slice from a DataFrame.\n",
      "Try using .loc[row_indexer,col_indexer] = value instead\n",
      "\n",
      "See the caveats in the documentation: http://pandas.pydata.org/pandas-docs/stable/indexing.html#indexing-view-versus-copy\n",
      "  if sys.path[0] == '':\n"
     ]
    },
    {
     "name": "stdout",
     "output_type": "stream",
     "text": [
      "Number of evaluated trips: 393\n",
      "Number of evaluated trips: 1060\n",
      "Number of evaluated trips: 1757\n",
      "Number of evaluated trips: 548\n"
     ]
    }
   ],
   "source": [
    "for p in time_periods.keys():\n",
    "    july_inter_prov_p_OD = generate_OD_matrix_fn(inter_prov_trips_df, \n",
    "                                                 time_period=p, \n",
    "                                                 i_date=datetime.datetime.strptime('2020-07-01', '%Y-%m-%d'))\n",
    "    july_inter_prov_p_OD.to_csv(os.path.join('data','july_tw_od_{}.csv'.format(p)))"
   ]
  },
  {
   "cell_type": "markdown",
   "metadata": {},
   "source": [
    "Pre-lockdown"
   ]
  },
  {
   "cell_type": "code",
   "execution_count": 37,
   "metadata": {},
   "outputs": [
    {
     "name": "stdout",
     "output_type": "stream",
     "text": [
      "Number of evaluated trips: 3772\n"
     ]
    }
   ],
   "source": [
    "inter_prov_OD = generate_OD_matrix_fn(\n",
    "    inter_prov_trips_df,\n",
    "    e_date=datetime.datetime.strptime('2020-03-12', '%Y-%m-%d'))\n"
   ]
  },
  {
   "cell_type": "markdown",
   "metadata": {},
   "source": [
    "Post-lockdown"
   ]
  },
  {
   "cell_type": "code",
   "execution_count": 38,
   "metadata": {},
   "outputs": [
    {
     "name": "stdout",
     "output_type": "stream",
     "text": [
      "Number of evaluated trips: 5261\n"
     ]
    }
   ],
   "source": [
    "inter_prov_OD = generate_OD_matrix_fn(\n",
    "    inter_prov_trips_df,\n",
    "    i_date=datetime.datetime.strptime('2020-06-21', '%Y-%m-%d'))\n"
   ]
  }
 ],
 "metadata": {
  "kernelspec": {
   "display_name": "Python 3",
   "language": "python",
   "name": "python3"
  },
  "language_info": {
   "codemirror_mode": {
    "name": "ipython",
    "version": 3
   },
   "file_extension": ".py",
   "mimetype": "text/x-python",
   "name": "python",
   "nbconvert_exporter": "python",
   "pygments_lexer": "ipython3",
   "version": "3.6.5"
  }
 },
 "nbformat": 4,
 "nbformat_minor": 2
}
